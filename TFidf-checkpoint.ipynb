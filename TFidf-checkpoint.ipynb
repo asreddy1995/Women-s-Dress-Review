{
 "cells": [
  {
   "cell_type": "code",
   "execution_count": 2,
   "id": "59b33f3e",
   "metadata": {},
   "outputs": [],
   "source": [
    "import pandas as pd"
   ]
  },
  {
   "cell_type": "code",
   "execution_count": 35,
   "id": "f1e560f2",
   "metadata": {},
   "outputs": [],
   "source": [
    "df=pd.read_json(r'C:\\Users\\My Pc\\ML_project\\text\\text_summar\\stackoverflow.json', lines=True)"
   ]
  },
  {
   "cell_type": "code",
   "execution_count": 38,
   "id": "3a9f0712",
   "metadata": {},
   "outputs": [
    {
     "name": "stdout",
     "output_type": "stream",
     "text": [
      "schema:\n",
      "\n",
      " id                            int64\n",
      "title                        object\n",
      "body                         object\n",
      "answer_count                  int64\n",
      "comment_count                 int64\n",
      "creation_date                object\n",
      "last_activity_date           object\n",
      "last_editor_display_name     object\n",
      "owner_display_name           object\n",
      "owner_user_id                 int64\n",
      "post_type_id                  int64\n",
      "score                         int64\n",
      "tags                         object\n",
      "view_count                    int64\n",
      "accepted_answer_id          float64\n",
      "favorite_count              float64\n",
      "last_edit_date               object\n",
      "last_editor_user_id         float64\n",
      "dtype: object\n",
      "no of questions= (2, 18)\n"
     ]
    }
   ],
   "source": [
    "\n",
    "print('schema:\\n\\n', df.dtypes)\n",
    "print('no of questions=', df.shape)"
   ]
  },
  {
   "cell_type": "code",
   "execution_count": 39,
   "id": "62af5bf0",
   "metadata": {},
   "outputs": [],
   "source": [
    "import re"
   ]
  },
  {
   "cell_type": "code",
   "execution_count": 47,
   "id": "3c1265e1",
   "metadata": {},
   "outputs": [
    {
     "data": {
      "text/plain": [
       "'how do i prevent floated right content from overlapping main content i have the following html lt td class a gt lt img src images some_icon png alt some icon gt lt span gt some content that s waaaaaaaaay too long to fit in the allotted space but which can get cut off lt span gt lt td gt it should display as follows some content that s wa icon i have the following css td a span overflow hidden white space nowrap z index td a img display block float right z index when i resize the browser to cut off the text it cuts off at the edge of the lt td gt rather than before the lt img gt which leaves the lt img gt overlapping the lt span gt content i ve tried various padding and margin s but nothing seemed to work is this possible nb it s very difficult to add a lt td gt that just contains the lt img gt here if it were easy i d just do that '"
      ]
     },
     "execution_count": 47,
     "metadata": {},
     "output_type": "execute_result"
    }
   ],
   "source": [
    "def pre_process(text):\n",
    "    text=text.lower()\n",
    "      #remove tags\n",
    "    text=re.sub(\"</?.*?>\",\" <> \",text)\n",
    "    \n",
    "    # remove special characters and digits\n",
    "    text=re.sub(\"(\\\\d|\\\\W)+\",\" \",text)\n",
    "    return text\n",
    "df['text']=df['title']+df['body']\n",
    "df['text']=df['text'].apply(lambda x:pre_process(x))\n",
    "df['text'][1]"
   ]
  },
  {
   "cell_type": "code",
   "execution_count": 48,
   "id": "49279811",
   "metadata": {},
   "outputs": [],
   "source": [
    "#creating IDF"
   ]
  },
  {
   "cell_type": "code",
   "execution_count": 49,
   "id": "67613513",
   "metadata": {},
   "outputs": [],
   "source": [
    "#countvectorizer to create a vocubulary and generate word cunts"
   ]
  },
  {
   "cell_type": "code",
   "execution_count": 59,
   "id": "ae745638",
   "metadata": {},
   "outputs": [],
   "source": [
    "from sklearn.feature_extraction.text import CountVectorizer"
   ]
  },
  {
   "cell_type": "code",
   "execution_count": 60,
   "id": "5e237052",
   "metadata": {},
   "outputs": [],
   "source": [
    "import re"
   ]
  },
  {
   "cell_type": "code",
   "execution_count": 61,
   "id": "cd443f6d",
   "metadata": {},
   "outputs": [],
   "source": [
    "def get_stop_words(stop_file_path):\n",
    "    with open(stop_file_path,'r' ,encoding='utf-8') as f:\n",
    "        stopwords=f.readlines()\n",
    "        stop_set=set(m.strip() for m in stopwords)\n",
    "        return frozenset(stop_set)\n",
    "    \n",
    "stopwords=get_stop_words(r'C:\\Users\\My Pc\\ML_project\\text\\text_summar\\stopwords.txt')\n",
    "docs=df['text'].tolist()\n",
    "cv=CountVectorizer(max_df=0.85, stop_words=stopwords)\n",
    "word_count_vector=cv.fit_transform(docs)"
   ]
  },
  {
   "cell_type": "code",
   "execution_count": 62,
   "id": "5dcb1456",
   "metadata": {},
   "outputs": [
    {
     "data": {
      "text/plain": [
       "(2, 72)"
      ]
     },
     "execution_count": 62,
     "metadata": {},
     "output_type": "execute_result"
    }
   ],
   "source": [
    "word_count_vector.shape"
   ]
  },
  {
   "cell_type": "code",
   "execution_count": 64,
   "id": "c6dad67a",
   "metadata": {},
   "outputs": [
    {
     "data": {
      "text/plain": [
       "(2, 72)"
      ]
     },
     "execution_count": 64,
     "metadata": {},
     "output_type": "execute_result"
    }
   ],
   "source": [
    "c=CountVectorizer(max_df=0.85, stop_words=stopwords,max_features=1000)\n",
    "word_count_vector=cv.fit_transform(docs)\n",
    "word_count_vector.shape"
   ]
  },
  {
   "cell_type": "code",
   "execution_count": 65,
   "id": "621ba03e",
   "metadata": {},
   "outputs": [
    {
     "data": {
      "text/plain": [
       "['serializing',\n",
       " 'private',\n",
       " 'struct',\n",
       " 'public',\n",
       " 'properties',\n",
       " 'string',\n",
       " 'serialize',\n",
       " 'attempt',\n",
       " 'stream',\n",
       " 'disk']"
      ]
     },
     "execution_count": 65,
     "metadata": {},
     "output_type": "execute_result"
    }
   ],
   "source": [
    "list(cv.vocabulary_.keys())[:10]"
   ]
  },
  {
   "cell_type": "code",
   "execution_count": 67,
   "id": "668ec475",
   "metadata": {},
   "outputs": [
    {
     "data": {
      "text/plain": [
       "['difficult',\n",
       " 'disk',\n",
       " 'display',\n",
       " 'don',\n",
       " 'easy',\n",
       " 'edge',\n",
       " 'error',\n",
       " 'fit',\n",
       " 'float',\n",
       " 'floated',\n",
       " 'following',\n",
       " 'follows',\n",
       " 'here',\n",
       " 'hidden',\n",
       " 'html',\n",
       " 'icon',\n",
       " 'images',\n",
       " 'img',\n",
       " 'index',\n",
       " 'just',\n",
       " 'keep',\n",
       " 'leaves',\n",
       " 'long',\n",
       " 'margin',\n",
       " 'nb',\n",
       " 'need',\n",
       " 'nowrap',\n",
       " 'only',\n",
       " 'overflow',\n",
       " 'overlapping',\n",
       " 'padding',\n",
       " 'png',\n",
       " 'possible',\n",
       " 'prevent',\n",
       " 'private']"
      ]
     },
     "execution_count": 67,
     "metadata": {},
     "output_type": "execute_result"
    }
   ],
   "source": [
    "list(cv.get_feature_names())[10:45]"
   ]
  },
  {
   "cell_type": "code",
   "execution_count": 68,
   "id": "f84f316c",
   "metadata": {},
   "outputs": [],
   "source": [
    "#Tfidf Transformer to cimpute idf"
   ]
  },
  {
   "cell_type": "code",
   "execution_count": 69,
   "id": "781b2d0d",
   "metadata": {},
   "outputs": [],
   "source": [
    "from sklearn.feature_extraction.text import TfidfTransformer"
   ]
  },
  {
   "cell_type": "code",
   "execution_count": 71,
   "id": "cd70a112",
   "metadata": {},
   "outputs": [
    {
     "data": {
      "text/plain": [
       "TfidfTransformer()"
      ]
     },
     "execution_count": 71,
     "metadata": {},
     "output_type": "execute_result"
    }
   ],
   "source": [
    "tfidf_transformer=TfidfTransformer(smooth_idf=True, use_idf=True)\n",
    "tfidf_transformer.fit(word_count_vector)"
   ]
  },
  {
   "cell_type": "code",
   "execution_count": 72,
   "id": "374963fb",
   "metadata": {},
   "outputs": [
    {
     "data": {
      "text/plain": [
       "array([1.40546511, 1.40546511, 1.40546511, 1.40546511, 1.40546511,\n",
       "       1.40546511, 1.40546511, 1.40546511, 1.40546511, 1.40546511,\n",
       "       1.40546511, 1.40546511, 1.40546511, 1.40546511, 1.40546511,\n",
       "       1.40546511, 1.40546511, 1.40546511, 1.40546511, 1.40546511,\n",
       "       1.40546511, 1.40546511, 1.40546511, 1.40546511, 1.40546511,\n",
       "       1.40546511, 1.40546511, 1.40546511, 1.40546511, 1.40546511,\n",
       "       1.40546511, 1.40546511, 1.40546511, 1.40546511, 1.40546511,\n",
       "       1.40546511, 1.40546511, 1.40546511, 1.40546511, 1.40546511,\n",
       "       1.40546511, 1.40546511, 1.40546511, 1.40546511, 1.40546511,\n",
       "       1.40546511, 1.40546511, 1.40546511, 1.40546511, 1.40546511,\n",
       "       1.40546511, 1.40546511, 1.40546511, 1.40546511, 1.40546511,\n",
       "       1.40546511, 1.40546511, 1.40546511, 1.40546511, 1.40546511,\n",
       "       1.40546511, 1.40546511, 1.40546511, 1.40546511, 1.40546511,\n",
       "       1.40546511, 1.40546511, 1.40546511, 1.40546511, 1.40546511,\n",
       "       1.40546511, 1.40546511])"
      ]
     },
     "execution_count": 72,
     "metadata": {},
     "output_type": "execute_result"
    }
   ],
   "source": [
    "tfidf_transformer.idf_"
   ]
  },
  {
   "cell_type": "code",
   "execution_count": 73,
   "id": "367cac41",
   "metadata": {},
   "outputs": [],
   "source": [
    "#computing TF_IDF and Extracting words"
   ]
  },
  {
   "cell_type": "code",
   "execution_count": 82,
   "id": "f079da5d",
   "metadata": {},
   "outputs": [],
   "source": [
    "df=pd.read_json(r'C:\\Users\\My Pc\\ML_project\\text\\text_summar\\stackoverflow.json', lines=True)\n",
    "df['text'] = df['title'] + df['body']\n",
    "df['text'] =df['text'].apply(lambda x:pre_process(x))\n",
    "\n",
    "# get test docs into a list\n",
    "docs_test=df['text'].tolist()\n",
    "docs_title=df['title'].tolist()\n",
    "docs_body=df['body'].tolist()"
   ]
  },
  {
   "cell_type": "code",
   "execution_count": 85,
   "id": "a33bf475",
   "metadata": {},
   "outputs": [],
   "source": [
    "def sort_coo(co_matrix):\n",
    "    tuples=zip(co_matrix.col, co_matrix.data)\n",
    "    return sorted(tuples, key=lambda x:(x[1], x[0]), reverse=True)\n",
    "def extract_topn_from_vector(feature_names,sorted_items, topn=10):\n",
    "    sorted_items=sorted_items[:topn]\n",
    "    score_vals=[]\n",
    "    feature_vals=[]\n",
    "    for idx, score in sorted_items:\n",
    "        fname=feature_names[idx]\n",
    "        score_vals.append(round(score, 3))\n",
    "        feature_vals.append(feature_names[idx])\n",
    "\n",
    "    #create a tuples of feature,score\n",
    "    #results = zip(feature_vals,score_vals)\n",
    "    results= {}\n",
    "    for idx in range(len(feature_vals)):\n",
    "        results[feature_vals[idx]]=score_vals[idx]\n",
    "    \n",
    "    return results"
   ]
  },
  {
   "cell_type": "code",
   "execution_count": 86,
   "id": "c4eaa996",
   "metadata": {},
   "outputs": [
    {
     "name": "stdout",
     "output_type": "stream",
     "text": [
      "\n",
      "=====Title=====\n",
      "Serializing a private struct - Can it be done?\n",
      "\n",
      "=====Body=====\n",
      "<p>I have a public class that contains a private struct. The struct contains properties (mostly string) that I want to serialize. When I attempt to serialize the struct and stream it to disk, using XmlSerializer, I get an error saying only public types can be serialized. I don't need, and don't want, this struct to be public. Is there a way I can serialize it and keep it private?</p>\n",
      "\n",
      "===Keywords===\n",
      "struct 0.589\n",
      "serialize 0.354\n",
      "public 0.354\n",
      "private 0.354\n",
      "don 0.236\n",
      "xmlserializer 0.118\n",
      "way 0.118\n",
      "using 0.118\n",
      "types 0.118\n",
      "string 0.118\n"
     ]
    }
   ],
   "source": [
    "\n",
    "# you only needs to do this once\n",
    "feature_names=cv.get_feature_names()\n",
    "\n",
    "# get the document that we want to extract keywords from\n",
    "doc=docs_test[0]\n",
    "\n",
    "#generate tf-idf for the given document\n",
    "tf_idf_vector=tfidf_transformer.transform(cv.transform([doc]))\n",
    "\n",
    "#sort the tf-idf vectors by descending order of scores\n",
    "sorted_items=sort_coo(tf_idf_vector.tocoo())\n",
    "\n",
    "#extract only the top n; n here is 10\n",
    "keywords=extract_topn_from_vector(feature_names,sorted_items,10)\n",
    "\n",
    "# now print the results\n",
    "print(\"\\n=====Title=====\")\n",
    "print(docs_title[0])\n",
    "print(\"\\n=====Body=====\")\n",
    "print(docs_body[0])\n",
    "print(\"\\n===Keywords===\")\n",
    "for k in keywords:\n",
    "    print(k,keywords[k])"
   ]
  },
  {
   "cell_type": "code",
   "execution_count": 99,
   "id": "169c48e6",
   "metadata": {},
   "outputs": [
    {
     "data": {
      "text/html": [
       "<div>\n",
       "<style scoped>\n",
       "    .dataframe tbody tr th:only-of-type {\n",
       "        vertical-align: middle;\n",
       "    }\n",
       "\n",
       "    .dataframe tbody tr th {\n",
       "        vertical-align: top;\n",
       "    }\n",
       "\n",
       "    .dataframe thead th {\n",
       "        text-align: right;\n",
       "    }\n",
       "</style>\n",
       "<table border=\"1\" class=\"dataframe\">\n",
       "  <thead>\n",
       "    <tr style=\"text-align: right;\">\n",
       "      <th></th>\n",
       "      <th>doc</th>\n",
       "      <th>keywords</th>\n",
       "    </tr>\n",
       "  </thead>\n",
       "  <tbody>\n",
       "    <tr>\n",
       "      <th>0</th>\n",
       "      <td>serializing a private struct can it be done i ...</td>\n",
       "      <td>{'struct': 0.589, 'serialize': 0.354, 'public'...</td>\n",
       "    </tr>\n",
       "    <tr>\n",
       "      <th>1</th>\n",
       "      <td>how do i prevent floated right content from ov...</td>\n",
       "      <td>{'td': 0.452, 'img': 0.377, 'content': 0.377, ...</td>\n",
       "    </tr>\n",
       "  </tbody>\n",
       "</table>\n",
       "</div>"
      ],
      "text/plain": [
       "                                                 doc  \\\n",
       "0  serializing a private struct can it be done i ...   \n",
       "1  how do i prevent floated right content from ov...   \n",
       "\n",
       "                                            keywords  \n",
       "0  {'struct': 0.589, 'serialize': 0.354, 'public'...  \n",
       "1  {'td': 0.452, 'img': 0.377, 'content': 0.377, ...  "
      ]
     },
     "execution_count": 99,
     "metadata": {},
     "output_type": "execute_result"
    }
   ],
   "source": [
    "tf_idf_vector=tfidf_transformer.transform(cv.transform(docs_test))\n",
    "\n",
    "results=[]\n",
    "for i in range(tf_idf_vector.shape[0]):\n",
    "    \n",
    "    # get vector for a single document\n",
    "    curr_vector=tf_idf_vector[i]\n",
    "    \n",
    "    #sort the tf-idf vector by descending order of scores\n",
    "    sorted_items=sort_coo(curr_vector.tocoo())\n",
    "\n",
    "    #extract only the top n; n here is 10\n",
    "    keywords=extract_topn_from_vector(feature_names,sorted_items,40)\n",
    "    \n",
    "    \n",
    "    results.append(keywords)\n",
    "\n",
    "df=pd.DataFrame(zip(docs,results),columns=['doc','keywords'])\n",
    "df"
   ]
  },
  {
   "cell_type": "code",
   "execution_count": null,
   "id": "fe3fb23d",
   "metadata": {},
   "outputs": [],
   "source": []
  }
 ],
 "metadata": {
  "kernelspec": {
   "display_name": "Python 3",
   "language": "python",
   "name": "python3"
  },
  "language_info": {
   "codemirror_mode": {
    "name": "ipython",
    "version": 3
   },
   "file_extension": ".py",
   "mimetype": "text/x-python",
   "name": "python",
   "nbconvert_exporter": "python",
   "pygments_lexer": "ipython3",
   "version": "3.8.8"
  }
 },
 "nbformat": 4,
 "nbformat_minor": 5
}
